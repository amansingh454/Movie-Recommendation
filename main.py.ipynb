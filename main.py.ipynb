{
 "cells": [
  {
   "cell_type": "code",
   "execution_count": null,
   "metadata": {},
   "outputs": [],
   "source": [
    "import pandas as pd\n",
    "final_data=pd.read_csv(r'final_data1',nrows=25000)"
   ]
  },
  {
   "cell_type": "code",
   "execution_count": 27,
   "metadata": {},
   "outputs": [
    {
     "data": {
      "text/html": [
       "<div>\n",
       "<style scoped>\n",
       "    .dataframe tbody tr th:only-of-type {\n",
       "        vertical-align: middle;\n",
       "    }\n",
       "\n",
       "    .dataframe tbody tr th {\n",
       "        vertical-align: top;\n",
       "    }\n",
       "\n",
       "    .dataframe thead th {\n",
       "        text-align: right;\n",
       "    }\n",
       "</style>\n",
       "<table border=\"1\" class=\"dataframe\">\n",
       "  <thead>\n",
       "    <tr style=\"text-align: right;\">\n",
       "      <th></th>\n",
       "      <th>actor_1_name</th>\n",
       "      <th>actor_2_name</th>\n",
       "      <th>actor_3_name</th>\n",
       "      <th>director_name</th>\n",
       "      <th>genres</th>\n",
       "      <th>movie_title</th>\n",
       "    </tr>\n",
       "  </thead>\n",
       "  <tbody>\n",
       "    <tr>\n",
       "      <th>0</th>\n",
       "      <td>Tom Hanks</td>\n",
       "      <td>Tim Allen</td>\n",
       "      <td>Don Rickles</td>\n",
       "      <td>John Lasseter</td>\n",
       "      <td>Animation Comedy Family</td>\n",
       "      <td>Toy Story</td>\n",
       "    </tr>\n",
       "    <tr>\n",
       "      <th>1</th>\n",
       "      <td>Robin Williams</td>\n",
       "      <td>Jonathan Hyde</td>\n",
       "      <td>Kirsten Dunst</td>\n",
       "      <td></td>\n",
       "      <td>Adventure Fantasy Family</td>\n",
       "      <td>Jumanji</td>\n",
       "    </tr>\n",
       "    <tr>\n",
       "      <th>2</th>\n",
       "      <td>Walter Matthau</td>\n",
       "      <td>Jack Lemmon</td>\n",
       "      <td>Ann-Margret</td>\n",
       "      <td>Howard Deutch</td>\n",
       "      <td>Romance Comedy</td>\n",
       "      <td>Grumpier Old Men</td>\n",
       "    </tr>\n",
       "    <tr>\n",
       "      <th>3</th>\n",
       "      <td>Whitney Houston</td>\n",
       "      <td>Angela Bassett</td>\n",
       "      <td>Loretta Devine</td>\n",
       "      <td>Forest Whitaker</td>\n",
       "      <td>Comedy Drama Romance</td>\n",
       "      <td>Waiting to Exhale</td>\n",
       "    </tr>\n",
       "    <tr>\n",
       "      <th>4</th>\n",
       "      <td>Steve Martin</td>\n",
       "      <td>Diane Keaton</td>\n",
       "      <td>Martin Short</td>\n",
       "      <td></td>\n",
       "      <td>Comedy</td>\n",
       "      <td>Father of the Bride Part II</td>\n",
       "    </tr>\n",
       "  </tbody>\n",
       "</table>\n",
       "</div>"
      ],
      "text/plain": [
       "      actor_1_name    actor_2_name    actor_3_name    director_name  \\\n",
       "0        Tom Hanks       Tim Allen     Don Rickles    John Lasseter   \n",
       "1   Robin Williams   Jonathan Hyde   Kirsten Dunst                    \n",
       "2   Walter Matthau     Jack Lemmon     Ann-Margret    Howard Deutch   \n",
       "3  Whitney Houston  Angela Bassett  Loretta Devine  Forest Whitaker   \n",
       "4     Steve Martin    Diane Keaton    Martin Short                    \n",
       "\n",
       "                       genres                  movie_title  \n",
       "0     Animation Comedy Family                    Toy Story  \n",
       "1    Adventure Fantasy Family                      Jumanji  \n",
       "2              Romance Comedy             Grumpier Old Men  \n",
       "3        Comedy Drama Romance            Waiting to Exhale  \n",
       "4                      Comedy  Father of the Bride Part II  "
      ]
     },
     "execution_count": 27,
     "metadata": {},
     "output_type": "execute_result"
    }
   ],
   "source": [
    "final_data.head()"
   ]
  },
  {
   "cell_type": "code",
   "execution_count": 28,
   "metadata": {},
   "outputs": [
    {
     "data": {
      "text/plain": [
       "(25000, 6)"
      ]
     },
     "execution_count": 28,
     "metadata": {},
     "output_type": "execute_result"
    }
   ],
   "source": [
    "final_data.shape"
   ]
  },
  {
   "cell_type": "code",
   "execution_count": 29,
   "metadata": {},
   "outputs": [
    {
     "data": {
      "text/plain": [
       "actor_1_name     0\n",
       "actor_2_name     0\n",
       "actor_3_name     0\n",
       "director_name    0\n",
       "genres           0\n",
       "movie_title      0\n",
       "dtype: int64"
      ]
     },
     "execution_count": 29,
     "metadata": {},
     "output_type": "execute_result"
    }
   ],
   "source": [
    "final_data.isnull().sum()"
   ]
  },
  {
   "cell_type": "code",
   "execution_count": 30,
   "metadata": {},
   "outputs": [],
   "source": [
    "import nltk \n",
    "import re \n",
    "from nltk.corpus import stopwords\n",
    "import string\n",
    "from nltk import WordNetLemmatizer"
   ]
  },
  {
   "cell_type": "code",
   "execution_count": 31,
   "metadata": {},
   "outputs": [],
   "source": [
    "lm=WordNetLemmatizer()"
   ]
  },
  {
   "cell_type": "code",
   "execution_count": 32,
   "metadata": {
    "scrolled": true
   },
   "outputs": [
    {
     "name": "stdout",
     "output_type": "stream",
     "text": [
      "showing info https://raw.githubusercontent.com/nltk/nltk_data/gh-pages/index.xml\n"
     ]
    },
    {
     "data": {
      "text/plain": [
       "True"
      ]
     },
     "execution_count": 32,
     "metadata": {},
     "output_type": "execute_result"
    }
   ],
   "source": [
    "nltk.download()"
   ]
  },
  {
   "cell_type": "code",
   "execution_count": 33,
   "metadata": {},
   "outputs": [],
   "source": [
    "for i in final_data.columns:\n",
    "    final_data[i]=final_data[i].apply(lambda x:x.replace(' ',''))"
   ]
  },
  {
   "cell_type": "code",
   "execution_count": 34,
   "metadata": {},
   "outputs": [],
   "source": [
    "def combine(x):\n",
    "    return \" \"+x['actor_1_name']+\" \"+x['actor_2_name']+\" \"+x['actor_3_name']+\" \"+x['director_name']+\" \"+x['genres']\n",
    "    "
   ]
  },
  {
   "cell_type": "code",
   "execution_count": 35,
   "metadata": {},
   "outputs": [],
   "source": [
    "final_data['comb']=final_data.apply(combine,axis=1)"
   ]
  },
  {
   "cell_type": "code",
   "execution_count": 36,
   "metadata": {},
   "outputs": [
    {
     "data": {
      "text/plain": [
       "0         TomHanks TimAllen DonRickles JohnLasseter Ani...\n",
       "1         RobinWilliams JonathanHyde KirstenDunst  Adve...\n",
       "2         WalterMatthau JackLemmon Ann-Margret HowardDe...\n",
       "3         WhitneyHouston AngelaBassett LorettaDevine Fo...\n",
       "4              SteveMartin DianeKeaton MartinShort  Comedy\n",
       "5         AlPacino RobertDeNiro ValKilmer MichaelMann A...\n",
       "6         HarrisonFord JuliaOrmond GregKinnear SydneyPo...\n",
       "7         JonathanTaylorThomas BradRenfro RachaelLeighC...\n",
       "8         Jean-ClaudeVanDamme PowersBoothe DorianHarewo...\n",
       "9         PierceBrosnan SeanBean IzabellaScorupco Marti...\n",
       "10        MichaelDouglas AnnetteBening MichaelJ.Fox  Co...\n",
       "11        LeslieNielsen MelBrooks AmyYasbeck  ComedyHorror\n",
       "12        KevinBacon BobHoskins BridgetFonda  FamilyAni...\n",
       "13        AnthonyHopkins JoanAllen PowersBoothe OliverS...\n",
       "14        GeenaDavis MatthewModine FrankLangella  Actio...\n",
       "15        RobertDeNiro SharonStone JoePesci MartinScors...\n",
       "16        KateWinslet EmmaThompson HughGrant AngLee Dra...\n",
       "17        TimRoth AntonioBanderas JenniferBeals  CrimeC...\n",
       "18        JimCarrey IanMcNeice SimonCallow SteveOedeker...\n",
       "19        WesleySnipes WoodyHarrelson JenniferLopez Jos...\n",
       "20        JohnTravolta GeneHackman ReneRusso BarrySonne...\n",
       "21        SigourneyWeaver HollyHunter WillPatton  Drama...\n",
       "22        SylvesterStallone AntonioBanderas JulianneMoo...\n",
       "23        MarySteenburgen SeanPatrickFlanery LanceHenri...\n",
       "24        NicolasCage ElisabethShue JulianSands  DramaR...\n",
       "25        LaurenceFishburne IrÃ¨neJacob KennethBranagh ...\n",
       "26        ChristinaRicci RosieO'Donnell ThoraBirch Lesl...\n",
       "27        AmandaRoot CiarÃ¡nHinds SusanFleetwood RogerM...\n",
       "28        RonPerlman DominiquePinon JudithVittet Jean-P...\n",
       "29        GongLi LiBao-Tian WangXiaoxiao ZhangYimou Dra...\n",
       "                               ...                        \n",
       "24970     TimHaars HuubSmit WesleyvanGaalen SteffenHaar...\n",
       "24971               AlanFord TomasArana RalphBrown  Comedy\n",
       "24972     EmilJannings FriedrichKayssler MaxGÃ¼lstorff ...\n",
       "24973     FreddieHighmore VingRhames PatrickMofokeng Lo...\n",
       "24974       ScottBrady RitaGam NevilleBrand  ActionWestern\n",
       "24975        WilliamHaines AnitaPage KarlDane  ComedyDrama\n",
       "24976     DirkBogarde MargaretBrooks PamelaFranklin  Drama\n",
       "24977     ElliottGould MargauxHemingway SidCaesar Menah...\n",
       "24978     LyubovOrlova VladimirVolodin SergeiStolyarov ...\n",
       "24979     ThomasKretschmann YaninaStudilina PhilippeRei...\n",
       "24980     LaceyChabert RobinDunne BrittneyWilson Sheldo...\n",
       "24981     ChristopherMeloni DevonBostick DeanNorris  Dr...\n",
       "24982     CharlotteGreenwood ClaudeGillingwater GrantWi...\n",
       "24983     BrandonLee DebiA.Monahan ErnestBorgnine BJDav...\n",
       "24984     ClarkGable SusanHayward MichaelRennie EdwardD...\n",
       "24985     BudSpencer EnzoCannavale FrancoAgostini  Acti...\n",
       "24986     WilliamHolden NinaFoch LeeJ.Cobb RudolphMatÃ©...\n",
       "24987           PaulBurke AllisonHayes JohnWengraf  Horror\n",
       "24988     JackieCoogan MaxDavidson LydiaYeamansTitus Ed...\n",
       "24989     StewartGranger RafVallone MickeyRooney RogerC...\n",
       "24990     MichaelSarrazin JacquelineBisset AnthonyFranc...\n",
       "24991     RichardDix GloriaStuart J.CarrolNaish William...\n",
       "24992        MickeyRooney GeorgeBancroft FayBainter  Drama\n",
       "24993     VirginiaWeidler EdwardArnold JohnCarroll  Com...\n",
       "24994     JoanCrawford LesterVail ClarkGable HarryBeaum...\n",
       "24995     EstherWilliams FernandoLamas JackCarson  Come...\n",
       "24996     SalvatorePapa ArturoPirovano GiuseppedeLiguor...\n",
       "24997     TonyAbatemarco ScottAdsit MattBesser  Animati...\n",
       "24998     SidneyToler MantanMoreland BenCarter PhilKarl...\n",
       "24999                   DavidSpade   KeithTruesdell Comedy\n",
       "Name: comb, Length: 25000, dtype: object"
      ]
     },
     "execution_count": 36,
     "metadata": {},
     "output_type": "execute_result"
    }
   ],
   "source": [
    "final_data['comb']"
   ]
  },
  {
   "cell_type": "code",
   "execution_count": 37,
   "metadata": {},
   "outputs": [
    {
     "data": {
      "text/html": [
       "<div>\n",
       "<style scoped>\n",
       "    .dataframe tbody tr th:only-of-type {\n",
       "        vertical-align: middle;\n",
       "    }\n",
       "\n",
       "    .dataframe tbody tr th {\n",
       "        vertical-align: top;\n",
       "    }\n",
       "\n",
       "    .dataframe thead th {\n",
       "        text-align: right;\n",
       "    }\n",
       "</style>\n",
       "<table border=\"1\" class=\"dataframe\">\n",
       "  <thead>\n",
       "    <tr style=\"text-align: right;\">\n",
       "      <th></th>\n",
       "      <th>actor_1_name</th>\n",
       "      <th>actor_2_name</th>\n",
       "      <th>actor_3_name</th>\n",
       "      <th>director_name</th>\n",
       "      <th>genres</th>\n",
       "      <th>movie_title</th>\n",
       "      <th>comb</th>\n",
       "    </tr>\n",
       "  </thead>\n",
       "  <tbody>\n",
       "    <tr>\n",
       "      <th>0</th>\n",
       "      <td>TomHanks</td>\n",
       "      <td>TimAllen</td>\n",
       "      <td>DonRickles</td>\n",
       "      <td>JohnLasseter</td>\n",
       "      <td>AnimationComedyFamily</td>\n",
       "      <td>ToyStory</td>\n",
       "      <td>TomHanks TimAllen DonRickles JohnLasseter Ani...</td>\n",
       "    </tr>\n",
       "    <tr>\n",
       "      <th>1</th>\n",
       "      <td>RobinWilliams</td>\n",
       "      <td>JonathanHyde</td>\n",
       "      <td>KirstenDunst</td>\n",
       "      <td></td>\n",
       "      <td>AdventureFantasyFamily</td>\n",
       "      <td>Jumanji</td>\n",
       "      <td>RobinWilliams JonathanHyde KirstenDunst  Adve...</td>\n",
       "    </tr>\n",
       "    <tr>\n",
       "      <th>2</th>\n",
       "      <td>WalterMatthau</td>\n",
       "      <td>JackLemmon</td>\n",
       "      <td>Ann-Margret</td>\n",
       "      <td>HowardDeutch</td>\n",
       "      <td>RomanceComedy</td>\n",
       "      <td>GrumpierOldMen</td>\n",
       "      <td>WalterMatthau JackLemmon Ann-Margret HowardDe...</td>\n",
       "    </tr>\n",
       "    <tr>\n",
       "      <th>3</th>\n",
       "      <td>WhitneyHouston</td>\n",
       "      <td>AngelaBassett</td>\n",
       "      <td>LorettaDevine</td>\n",
       "      <td>ForestWhitaker</td>\n",
       "      <td>ComedyDramaRomance</td>\n",
       "      <td>WaitingtoExhale</td>\n",
       "      <td>WhitneyHouston AngelaBassett LorettaDevine Fo...</td>\n",
       "    </tr>\n",
       "    <tr>\n",
       "      <th>4</th>\n",
       "      <td>SteveMartin</td>\n",
       "      <td>DianeKeaton</td>\n",
       "      <td>MartinShort</td>\n",
       "      <td></td>\n",
       "      <td>Comedy</td>\n",
       "      <td>FatheroftheBridePartII</td>\n",
       "      <td>SteveMartin DianeKeaton MartinShort  Comedy</td>\n",
       "    </tr>\n",
       "  </tbody>\n",
       "</table>\n",
       "</div>"
      ],
      "text/plain": [
       "     actor_1_name   actor_2_name   actor_3_name   director_name  \\\n",
       "0        TomHanks       TimAllen     DonRickles    JohnLasseter   \n",
       "1   RobinWilliams   JonathanHyde   KirstenDunst                   \n",
       "2   WalterMatthau     JackLemmon    Ann-Margret    HowardDeutch   \n",
       "3  WhitneyHouston  AngelaBassett  LorettaDevine  ForestWhitaker   \n",
       "4     SteveMartin    DianeKeaton    MartinShort                   \n",
       "\n",
       "                   genres             movie_title  \\\n",
       "0   AnimationComedyFamily                ToyStory   \n",
       "1  AdventureFantasyFamily                 Jumanji   \n",
       "2           RomanceComedy          GrumpierOldMen   \n",
       "3      ComedyDramaRomance         WaitingtoExhale   \n",
       "4                  Comedy  FatheroftheBridePartII   \n",
       "\n",
       "                                                comb  \n",
       "0   TomHanks TimAllen DonRickles JohnLasseter Ani...  \n",
       "1   RobinWilliams JonathanHyde KirstenDunst  Adve...  \n",
       "2   WalterMatthau JackLemmon Ann-Margret HowardDe...  \n",
       "3   WhitneyHouston AngelaBassett LorettaDevine Fo...  \n",
       "4        SteveMartin DianeKeaton MartinShort  Comedy  "
      ]
     },
     "execution_count": 37,
     "metadata": {},
     "output_type": "execute_result"
    }
   ],
   "source": [
    "final_data.head()"
   ]
  },
  {
   "cell_type": "code",
   "execution_count": 38,
   "metadata": {},
   "outputs": [],
   "source": [
    "final_data=final_data[['movie_title','comb']]"
   ]
  },
  {
   "cell_type": "code",
   "execution_count": 39,
   "metadata": {},
   "outputs": [
    {
     "data": {
      "text/html": [
       "<div>\n",
       "<style scoped>\n",
       "    .dataframe tbody tr th:only-of-type {\n",
       "        vertical-align: middle;\n",
       "    }\n",
       "\n",
       "    .dataframe tbody tr th {\n",
       "        vertical-align: top;\n",
       "    }\n",
       "\n",
       "    .dataframe thead th {\n",
       "        text-align: right;\n",
       "    }\n",
       "</style>\n",
       "<table border=\"1\" class=\"dataframe\">\n",
       "  <thead>\n",
       "    <tr style=\"text-align: right;\">\n",
       "      <th></th>\n",
       "      <th>movie_title</th>\n",
       "      <th>comb</th>\n",
       "    </tr>\n",
       "  </thead>\n",
       "  <tbody>\n",
       "    <tr>\n",
       "      <th>0</th>\n",
       "      <td>ToyStory</td>\n",
       "      <td>TomHanks TimAllen DonRickles JohnLasseter Ani...</td>\n",
       "    </tr>\n",
       "    <tr>\n",
       "      <th>1</th>\n",
       "      <td>Jumanji</td>\n",
       "      <td>RobinWilliams JonathanHyde KirstenDunst  Adve...</td>\n",
       "    </tr>\n",
       "    <tr>\n",
       "      <th>2</th>\n",
       "      <td>GrumpierOldMen</td>\n",
       "      <td>WalterMatthau JackLemmon Ann-Margret HowardDe...</td>\n",
       "    </tr>\n",
       "    <tr>\n",
       "      <th>3</th>\n",
       "      <td>WaitingtoExhale</td>\n",
       "      <td>WhitneyHouston AngelaBassett LorettaDevine Fo...</td>\n",
       "    </tr>\n",
       "    <tr>\n",
       "      <th>4</th>\n",
       "      <td>FatheroftheBridePartII</td>\n",
       "      <td>SteveMartin DianeKeaton MartinShort  Comedy</td>\n",
       "    </tr>\n",
       "  </tbody>\n",
       "</table>\n",
       "</div>"
      ],
      "text/plain": [
       "              movie_title                                               comb\n",
       "0                ToyStory   TomHanks TimAllen DonRickles JohnLasseter Ani...\n",
       "1                 Jumanji   RobinWilliams JonathanHyde KirstenDunst  Adve...\n",
       "2          GrumpierOldMen   WalterMatthau JackLemmon Ann-Margret HowardDe...\n",
       "3         WaitingtoExhale   WhitneyHouston AngelaBassett LorettaDevine Fo...\n",
       "4  FatheroftheBridePartII        SteveMartin DianeKeaton MartinShort  Comedy"
      ]
     },
     "execution_count": 39,
     "metadata": {},
     "output_type": "execute_result"
    }
   ],
   "source": [
    "final_data.head()"
   ]
  },
  {
   "cell_type": "code",
   "execution_count": 40,
   "metadata": {},
   "outputs": [],
   "source": [
    "def clean(x):\n",
    "    x=re.sub(\"\\W\",\" \",x)\n",
    "    x=re.sub(\"[0-9]\",\" \",x)\n",
    "    x= [lm.lemmatize(item) for item in nltk.word_tokenize(x) if item not in stopwords.words('english') and  item not in string.punctuation]\n",
    "    x=\" \".join(x)\n",
    "    x=x.lower()\n",
    "    x=re.sub(\"\\s+\",\" \",x)\n",
    "    return x\n",
    "    "
   ]
  },
  {
   "cell_type": "code",
   "execution_count": 41,
   "metadata": {},
   "outputs": [],
   "source": [
    "final_data['comb']=final_data['comb'].apply(clean)"
   ]
  },
  {
   "cell_type": "code",
   "execution_count": 184,
   "metadata": {},
   "outputs": [],
   "source": [
    "def clean_movie(x):\n",
    "    x=re.sub(\"\\W\",\" \",x)\n",
    "    x=x.upper()\n",
    "    return x\n",
    "\n",
    "    "
   ]
  },
  {
   "cell_type": "code",
   "execution_count": 176,
   "metadata": {},
   "outputs": [],
   "source": [
    "final_data['movie_title']=final_data['movie_title'].apply(clean_movie)"
   ]
  },
  {
   "cell_type": "code",
   "execution_count": 177,
   "metadata": {},
   "outputs": [
    {
     "data": {
      "text/html": [
       "<div>\n",
       "<style scoped>\n",
       "    .dataframe tbody tr th:only-of-type {\n",
       "        vertical-align: middle;\n",
       "    }\n",
       "\n",
       "    .dataframe tbody tr th {\n",
       "        vertical-align: top;\n",
       "    }\n",
       "\n",
       "    .dataframe thead th {\n",
       "        text-align: right;\n",
       "    }\n",
       "</style>\n",
       "<table border=\"1\" class=\"dataframe\">\n",
       "  <thead>\n",
       "    <tr style=\"text-align: right;\">\n",
       "      <th></th>\n",
       "      <th>movie_title</th>\n",
       "      <th>comb</th>\n",
       "    </tr>\n",
       "  </thead>\n",
       "  <tbody>\n",
       "    <tr>\n",
       "      <th>0</th>\n",
       "      <td>toystory</td>\n",
       "      <td>tomhanks timallen donrickles johnlasseter anim...</td>\n",
       "    </tr>\n",
       "    <tr>\n",
       "      <th>1</th>\n",
       "      <td>jumanji</td>\n",
       "      <td>robinwilliams jonathanhyde kirstendunst advent...</td>\n",
       "    </tr>\n",
       "    <tr>\n",
       "      <th>2</th>\n",
       "      <td>grumpieroldmen</td>\n",
       "      <td>waltermatthau jacklemmon ann margret howarddeu...</td>\n",
       "    </tr>\n",
       "    <tr>\n",
       "      <th>3</th>\n",
       "      <td>waitingtoexhale</td>\n",
       "      <td>whitneyhouston angelabassett lorettadevine for...</td>\n",
       "    </tr>\n",
       "    <tr>\n",
       "      <th>4</th>\n",
       "      <td>fatherofthebridepartii</td>\n",
       "      <td>stevemartin dianekeaton martinshort comedy</td>\n",
       "    </tr>\n",
       "  </tbody>\n",
       "</table>\n",
       "</div>"
      ],
      "text/plain": [
       "              movie_title                                               comb\n",
       "0                toystory  tomhanks timallen donrickles johnlasseter anim...\n",
       "1                 jumanji  robinwilliams jonathanhyde kirstendunst advent...\n",
       "2          grumpieroldmen  waltermatthau jacklemmon ann margret howarddeu...\n",
       "3         waitingtoexhale  whitneyhouston angelabassett lorettadevine for...\n",
       "4  fatherofthebridepartii         stevemartin dianekeaton martinshort comedy"
      ]
     },
     "execution_count": 177,
     "metadata": {},
     "output_type": "execute_result"
    }
   ],
   "source": [
    "final_data.head()"
   ]
  },
  {
   "cell_type": "code",
   "execution_count": 43,
   "metadata": {},
   "outputs": [],
   "source": [
    "from sklearn.feature_extraction.text import TfidfVectorizer"
   ]
  },
  {
   "cell_type": "code",
   "execution_count": 44,
   "metadata": {},
   "outputs": [],
   "source": [
    "tf=TfidfVectorizer(ngram_range=(1,3),min_df=3)"
   ]
  },
  {
   "cell_type": "code",
   "execution_count": 45,
   "metadata": {},
   "outputs": [],
   "source": [
    "matrix=tf.fit_transform(final_data['comb']).toarray()"
   ]
  },
  {
   "cell_type": "code",
   "execution_count": 46,
   "metadata": {},
   "outputs": [
    {
     "data": {
      "text/plain": [
       "array([[0., 0., 0., ..., 0., 0., 0.],\n",
       "       [0., 0., 0., ..., 0., 0., 0.],\n",
       "       [0., 0., 0., ..., 0., 0., 0.],\n",
       "       ...,\n",
       "       [0., 0., 0., ..., 0., 0., 0.],\n",
       "       [0., 0., 0., ..., 0., 0., 0.],\n",
       "       [0., 0., 0., ..., 0., 0., 0.]])"
      ]
     },
     "execution_count": 46,
     "metadata": {},
     "output_type": "execute_result"
    }
   ],
   "source": [
    "matrix"
   ]
  },
  {
   "cell_type": "code",
   "execution_count": 75,
   "metadata": {},
   "outputs": [],
   "source": [
    "from sklearn.metrics.pairwise import sigmoid_kernel\n",
    "sig=sigmoid_kernel(matrix,matrix)"
   ]
  },
  {
   "cell_type": "code",
   "execution_count": 178,
   "metadata": {},
   "outputs": [],
   "source": [
    "movie_series=pd.Series(index=final_data['movie_title'],data=final_data['movie_title'].index)"
   ]
  },
  {
   "cell_type": "code",
   "execution_count": 179,
   "metadata": {},
   "outputs": [
    {
     "data": {
      "text/plain": [
       "movie_title\n",
       "toystory                  0\n",
       "jumanji                   1\n",
       "grumpieroldmen            2\n",
       "waitingtoexhale           3\n",
       "fatherofthebridepartii    4\n",
       "dtype: int64"
      ]
     },
     "execution_count": 179,
     "metadata": {},
     "output_type": "execute_result"
    }
   ],
   "source": [
    "movie_series.head()"
   ]
  },
  {
   "cell_type": "code",
   "execution_count": 180,
   "metadata": {},
   "outputs": [
    {
     "data": {
      "text/plain": [
       "array([0.76159416, 0.76163892, 0.76159416, ..., 0.76159416, 0.76159416,\n",
       "       0.76159416])"
      ]
     },
     "execution_count": 180,
     "metadata": {},
     "output_type": "execute_result"
    }
   ],
   "source": [
    "movie_series['jumanji']\n",
    "sig[1]"
   ]
  },
  {
   "cell_type": "code",
   "execution_count": 181,
   "metadata": {},
   "outputs": [],
   "source": [
    "def recommend(x,sig=sig):\n",
    "    lis=[]\n",
    "    lis2=[]\n",
    "    index=movie_series[x]\n",
    "    values=sig[index]\n",
    "    for i,j in enumerate(values):\n",
    "        lis.append((i,j))\n",
    "    lis=sorted(lis,key=lambda x : x[1],reverse=True)\n",
    "    lis=lis[:5]\n",
    "    for item in lis:\n",
    "        lis2.append(item[0])\n",
    "    return final_data.iloc[lis2,0:1]"
   ]
  },
  {
   "cell_type": "code",
   "execution_count": 185,
   "metadata": {},
   "outputs": [
    {
     "name": "stdout",
     "output_type": "stream",
     "text": [
      "            movie_title\n",
      "14723            avatar\n",
      "17686      almightythor\n",
      "5016         crossroads\n",
      "6393     halfmoonstreet\n",
      "3899   dungeons dragons\n"
     ]
    }
   ],
   "source": [
    "print(recommend('avatar'))"
   ]
  }
 ],
 "metadata": {
  "kernelspec": {
   "display_name": "Python 3",
   "language": "python",
   "name": "python3"
  },
  "language_info": {
   "codemirror_mode": {
    "name": "ipython",
    "version": 3
   },
   "file_extension": ".py",
   "mimetype": "text/x-python",
   "name": "python",
   "nbconvert_exporter": "python",
   "pygments_lexer": "ipython3",
   "version": "3.7.3"
  }
 },
 "nbformat": 4,
 "nbformat_minor": 2
}
